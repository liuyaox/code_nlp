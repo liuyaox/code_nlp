{
 "cells": [
  {
   "cell_type": "code",
   "execution_count": 1,
   "metadata": {},
   "outputs": [],
   "source": [
    "import sys\n",
    "import numpy as np\n",
    "import pandas as pd\n",
    "from functools import reduce\n",
    "from sklearn.decomposition import PCA"
   ]
  },
  {
   "cell_type": "code",
   "execution_count": 2,
   "metadata": {},
   "outputs": [],
   "source": [
    "def get_word_embedding(word_embedding_file, header=False, seps=('\\t', '\\t')):\n",
    "    \"\"\" Original Full Word Embedding，用于从中选择出词汇表word2index中的word及其vector，或构建Embedding Layer \"\"\"\n",
    "    word_embedding = {}\n",
    "    with open(word_embedding_file, 'r', encoding='utf-8') as fr:\n",
    "        if header:\n",
    "            fr.readline()                        # Drop line 1\n",
    "        for line in fr:\n",
    "            try:\n",
    "                values = line.strip().split(seps[0])\n",
    "                word = values[0]\n",
    "                vector = values[1:] if seps[0] == seps[1] else values[1].split(seps[1])\n",
    "                word_embedding[word] = np.asarray(vector, dtype='float32')\n",
    "            except ValueError as e:\n",
    "                pass\n",
    "    return word_embedding"
   ]
  },
  {
   "cell_type": "code",
   "execution_count": 3,
   "metadata": {},
   "outputs": [],
   "source": [
    "def get_word2index(corpus, level='word', sep=None):\n",
    "    \"\"\"\n",
    "    词汇表：支持character和word-level，以及两者的汇总\n",
    "    统计corpus中character/word频率并倒序排序获得index，构建词汇字典：<character/word, index> 后续会使用index来表示character/word\n",
    "    \"\"\"\n",
    "    word2num = {}\n",
    "    for line in corpus:\n",
    "        if level in ['character', 'char']:\n",
    "            objs = list(line.strip())\n",
    "        elif level == 'word':\n",
    "            objs = line.strip().split(sep)      # 默认每一行是分词后分隔好的结果\n",
    "        elif level == 'both':\n",
    "            objs = list(line.strip()) + line.strip().split(sep)\n",
    "        for obj in objs:\n",
    "            if obj in word2num:\n",
    "                word2num[obj] += 1\n",
    "            else:\n",
    "                word2num[obj] = 1\n",
    "    word_sorted = sorted(word2num, key=word2num.get, reverse=True)           # 按character/word频率倒序排列\n",
    "    word_list = word_sorted if ' ' in word_sorted else [' '] + word_sorted   # 空格是否加入vocab？\n",
    "    word2index = {word: ind for (ind, word) in enumerate(word_list)}  # character/word词汇表：排列rank作为character/word的index   \n",
    "    return word2index"
   ]
  },
  {
   "cell_type": "code",
   "execution_count": 4,
   "metadata": {},
   "outputs": [],
   "source": [
    "def get_word2vector(word2index=None, word_embedding=None):\n",
    "    \"\"\" 生成词汇表中的word及其vector，基于Original Full Embedding和词汇表word2index的结合 \"\"\"\n",
    "    word2vector = {}\n",
    "    emb_dim = len(word_embedding.get('a'))\n",
    "    for word, index in word2index.items():\n",
    "        if word in word_embedding:\n",
    "            vector = word_embedding.get(word)\n",
    "        else:\n",
    "            vectors = [word_embedding.get(x, np.zeros(emb_dim)) for x in list(word)]\n",
    "            vector = reduce(lambda x, y: x + y, vectors) / len(vectors)\n",
    "        if vector is not None:\n",
    "            word2vector[word] = vector\n",
    "    return word2vector"
   ]
  },
  {
   "cell_type": "code",
   "execution_count": 6,
   "metadata": {},
   "outputs": [],
   "source": [
    "def get_basic4_dict(corpus, word_embedding, level='word', sep=None):\n",
    "    \"\"\" 4个基础字典，用于各种转换 \"\"\"\n",
    "    word2index = get_word2index(corpus, level=level, sep=sep)\n",
    "    index2word = {ind: word for (word, ind) in word2index.items()}\n",
    "    word2vector = get_word2vector(word2index, word_embedding)\n",
    "    index2vector = {ind: word2vector.get(word, -1) for (ind, word) in index2word.items()}\n",
    "    return word2index, index2word, word2vector, index2vector"
   ]
  },
  {
   "cell_type": "code",
   "execution_count": 7,
   "metadata": {},
   "outputs": [],
   "source": [
    "# Original Full Word Embedding\n",
    "emb_dim_public = 200\n",
    "word_embedding_file = '/home/liuyao58/data/Tencent_AILab_ChineseEmbedding.txt'\n",
    "word_embedding = get_word_embedding(word_embedding_file, header=True, seps=(' ', ' '))"
   ]
  },
  {
   "cell_type": "code",
   "execution_count": 8,
   "metadata": {},
   "outputs": [],
   "source": [
    "# 准备数据\n",
    "cid123 = pd.read_csv('./data/cid123.txt', header=None, sep='\\t', names=['cid1id', 'cid1', 'cid2id', 'cid2', 'cid3id', 'cid3'])\n",
    "pwords = pd.read_csv('./data/pwords.txt', header=None, sep='\\t', names=['pword'])\n",
    "cid1s = set(cid123.cid1.tolist())\n",
    "cid2s = set(cid123.cid2.tolist())\n",
    "cid3s = set(cid123.cid3.tolist())\n",
    "cids = cid1s | cid2s | cid3s\n",
    "pwords = set(pwords.pword.tolist())\n",
    "words = cids | pwords"
   ]
  },
  {
   "cell_type": "code",
   "execution_count": 9,
   "metadata": {},
   "outputs": [],
   "source": [
    "# 4个基础数据，用于各种转换\n",
    "word2index, index2word, word2vector, index2vector = get_basic4_dict(words, word_embedding, level='both')"
   ]
  },
  {
   "cell_type": "code",
   "execution_count": 10,
   "metadata": {},
   "outputs": [],
   "source": [
    "def dict_to_array(dic, sortby=None):\n",
    "    \"\"\" 把字典的keys和values转化为2个ndarray  sortby: 按key(=0)或value(=1)排序 \"\"\"\n",
    "    if sortby is None:\n",
    "        items = dic.items()\n",
    "    else:\n",
    "        items = sorted(dic.items(), key=lambda x: x[sortby])\n",
    "    keys, values = zip(*items)\n",
    "    return np.asarray(keys), np.asarray(values)\n",
    "\n",
    "def array_to_dict(index2key, array):\n",
    "    \"\"\" 把array中的vector按其index转化为dict，key为index2key中index对应的key，value为vector \"\"\"\n",
    "    return {index2key.get(ind): vector for (ind, vector) in enumerate(array)}"
   ]
  },
  {
   "cell_type": "code",
   "execution_count": 17,
   "metadata": {},
   "outputs": [],
   "source": [
    "_, arr_vector = dict_to_array(index2vector, sortby=0)"
   ]
  },
  {
   "cell_type": "code",
   "execution_count": 12,
   "metadata": {},
   "outputs": [],
   "source": [
    "# PCA\n",
    "def pca_reduce(X, n_components=100):\n",
    "    assert X.shape[1] >= n_components, \"n_components shouldn't be greater than shape of X\"\n",
    "    pca = PCA(n_components=n_components)\n",
    "    X_mean = X - np.mean(X)\n",
    "    X_pca = pca.fit_transform(X_mean)\n",
    "    U1 = pca.components_\n",
    "    return X_mean, X_pca, U1\n",
    "\n",
    "# PPA\n",
    "def ppa(X, d=7):\n",
    "    X_mean, _, U1 = pca_reduce(X, X.shape[1])\t# Get Components Ranked\n",
    "    X2 = []\n",
    "    for i, x in enumerate(X_mean):\n",
    "        for u in U1[:d]:\t\t\t\t\t\t# Remove Projections on Top-d Components\n",
    "            x = x - np.dot(u.transpose(), x) * u\n",
    "        X2.append(x)\n",
    "    return np.asarray(X2)\n",
    "\n",
    "# PCA->PPA\n",
    "def pca_ppa(X1, n_components=100, d=7):\n",
    "    _, X2, _ = pca_reduce(X1, n_components)\t\t# PCA\n",
    "    X3 = ppa(X2, d=d)\t\t\t\t\t\t\t# PPA\n",
    "    return X3\n",
    "\n",
    "# PPA->PCA\n",
    "def ppa_pca(X0, n_components=100, d=7):\n",
    "    X1 = ppa(X0, d=d)\t\t\t\t\t\t\t# PPA\n",
    "    _, X2, _ = pca_reduce(X1, n_components)\t\t# PCA\n",
    "    return X2\n",
    "\n",
    "# PPA->PCA->PPA\n",
    "def ppa_pca_ppa(X0, n_components=100, ds=(7, 7)):\n",
    "    X1 = ppa(X0, d=ds[0])\t\t\t\t\t\t# PPA\n",
    "    _, X2, _ = pca_reduce(X1, n_components)\t\t# PCA\n",
    "    X3 = ppa(X2, d=ds[1])\t\t\t\t\t\t# PPA\n",
    "    return X3"
   ]
  },
  {
   "cell_type": "code",
   "execution_count": 14,
   "metadata": {},
   "outputs": [],
   "source": [
    "# truncated50d\n",
    "word2vector_truncated50d = {word: vector[:50] for (word, vector) in word2vector.items()}"
   ]
  },
  {
   "cell_type": "code",
   "execution_count": 15,
   "metadata": {},
   "outputs": [
    {
     "data": {
      "text/plain": [
       "array([-0.117943, -0.399701,  0.038138,  0.202896, -0.222312,  0.21869 ,\n",
       "       -0.231807,  0.164772, -0.150781,  0.56089 , -0.165981, -0.248907,\n",
       "       -0.046641, -0.22438 ,  0.310901, -0.043883, -0.131053, -0.418611,\n",
       "       -0.227874, -0.577237, -0.014316,  0.133255,  0.119499,  0.339872,\n",
       "        0.313934,  0.064334, -0.185719,  0.143952,  0.086995, -0.12751 ,\n",
       "       -0.18614 ,  0.300331, -0.128238,  0.305069, -0.118038,  0.192105,\n",
       "        0.120901,  0.21296 , -0.278493,  0.009573,  0.087687, -0.275137,\n",
       "        0.194012, -0.208879,  0.371866, -0.234605, -0.325147, -0.436119,\n",
       "        0.090971, -0.001054], dtype=float32)"
      ]
     },
     "execution_count": 15,
     "metadata": {},
     "output_type": "execute_result"
    }
   ],
   "source": [
    "word2vector_truncated50d['手机']"
   ]
  },
  {
   "cell_type": "code",
   "execution_count": 20,
   "metadata": {},
   "outputs": [],
   "source": [
    "# PCA-50d\n",
    "_, arr_pca50d, _ = pca_reduce(arr_vector, 50)\n",
    "word2vector_pca50d = array_to_dict(index2word, arr_pca50d)\n",
    "# PCA-20d\n",
    "_, arr_pca20d, _ = pca_reduce(arr_vector, 20)\n",
    "word2vector_pca20d = array_to_dict(index2word, arr_pca20d)"
   ]
  },
  {
   "cell_type": "code",
   "execution_count": 21,
   "metadata": {},
   "outputs": [
    {
     "data": {
      "text/plain": [
       "array([-0.26094965, -0.6313509 ,  0.01093778,  0.17210765, -0.39060426,\n",
       "        0.98108833, -0.17377844, -0.49491298, -0.34851549,  0.47355426,\n",
       "       -0.01410114,  0.229406  ,  0.05462971,  0.35100875, -0.12129874,\n",
       "        0.48324166,  0.37322765,  0.35249228, -0.55505997,  0.23446015])"
      ]
     },
     "execution_count": 21,
     "metadata": {},
     "output_type": "execute_result"
    }
   ],
   "source": [
    "word2vector_pca20d['手机']"
   ]
  },
  {
   "cell_type": "code",
   "execution_count": 22,
   "metadata": {},
   "outputs": [],
   "source": [
    "# PPA\n",
    "arr_ppa = ppa(arr_vector, d=7)\n",
    "word2vector_ppa = array_to_dict(index2word, arr_ppa)"
   ]
  },
  {
   "cell_type": "code",
   "execution_count": 23,
   "metadata": {},
   "outputs": [
    {
     "data": {
      "text/plain": [
       "(200,)"
      ]
     },
     "execution_count": 23,
     "metadata": {},
     "output_type": "execute_result"
    }
   ],
   "source": [
    "word2vector_ppa['手机'].shape"
   ]
  },
  {
   "cell_type": "code",
   "execution_count": 24,
   "metadata": {},
   "outputs": [],
   "source": [
    "# PPA+PCA-50d\n",
    "arr_ppapca50d = ppa_pca(arr_vector, 50, d=7)\n",
    "word2vector_ppapca50d = array_to_dict(index2word, arr_ppapca50d)\n",
    "# PPA+PCA-20d\n",
    "arr_ppapca20d = ppa_pca(arr_vector, 20, d=7)\n",
    "word2vector_ppapca20d = array_to_dict(index2word, arr_ppapca20d)"
   ]
  },
  {
   "cell_type": "code",
   "execution_count": 25,
   "metadata": {},
   "outputs": [
    {
     "data": {
      "text/plain": [
       "array([-0.49011606, -0.35309353,  0.46716159, -0.00130924,  0.19988403,\n",
       "        0.12424759,  0.32703484, -0.18107696, -0.51457432,  0.39778487,\n",
       "        0.12714913,  0.6287529 , -0.07530246, -0.09949776,  0.00846632,\n",
       "       -0.26471987, -0.13158814, -0.35093141,  0.16437773, -0.25183793])"
      ]
     },
     "execution_count": 25,
     "metadata": {},
     "output_type": "execute_result"
    }
   ],
   "source": [
    "word2vector_ppapca20d['手机']"
   ]
  },
  {
   "cell_type": "code",
   "execution_count": 26,
   "metadata": {},
   "outputs": [],
   "source": [
    "# PCA-50d+PPA\n",
    "arr_pca50dppa = pca_ppa(arr_vector, 50, d=7)\n",
    "word2vector_pca50dppa = array_to_dict(index2word, arr_pca50dppa)\n",
    "# PCA-20d+PPA\n",
    "arr_pca20dppa = pca_ppa(arr_vector, 20, d=7)\n",
    "word2vector_pca20dppa = array_to_dict(index2word, arr_pca20dppa)"
   ]
  },
  {
   "cell_type": "code",
   "execution_count": 28,
   "metadata": {},
   "outputs": [
    {
     "data": {
      "text/plain": [
       "array([ 0.00000000e+00,  9.45486629e-16,  3.61413061e-16, -2.24796870e-16,\n",
       "       -1.86043152e-15,  3.30720066e-15, -1.52655666e-15, -4.98527845e-01,\n",
       "       -3.76725207e-01,  4.64312466e-01, -2.82854173e-02,  1.78572026e-01,\n",
       "        1.00788072e-01, -3.65642457e-01, -1.25932288e-01, -4.62198889e-01,\n",
       "        3.20466565e-01,  1.24927901e-01,  3.75541841e-01, -4.95082063e-01])"
      ]
     },
     "execution_count": 28,
     "metadata": {},
     "output_type": "execute_result"
    }
   ],
   "source": [
    "word2vector_pca20dppa['手机']"
   ]
  },
  {
   "cell_type": "code",
   "execution_count": 29,
   "metadata": {},
   "outputs": [],
   "source": [
    "# PPA+PCA-50d+PPA\n",
    "arr_ppapca50dppa = ppa_pca_ppa(arr_vector, 50, ds=(7, 7))\n",
    "word2vector_ppapca50dppa = array_to_dict(index2word, arr_ppapca50dppa)\n",
    "# PPA+PCA-20d+PPA\n",
    "arr_ppapca20dppa = ppa_pca_ppa(arr_vector, 20, ds=(7, 7))\n",
    "word2vector_ppapca20dppa = array_to_dict(index2word, arr_ppapca20dppa)"
   ]
  },
  {
   "cell_type": "code",
   "execution_count": 30,
   "metadata": {},
   "outputs": [
    {
     "data": {
      "text/plain": [
       "array([ 0.00000000e+00, -9.88208723e-16,  2.49673598e-16,  1.09574024e-15,\n",
       "        4.39494398e-16,  2.02874236e-15,  1.42663659e-14, -1.85802544e-01,\n",
       "       -4.89893694e-01,  3.84668333e-01,  1.53021087e-01,  6.61231923e-01,\n",
       "        4.17988463e-02, -8.82162369e-02, -1.27054452e-02,  5.35425475e-02,\n",
       "       -1.42554259e-01, -3.88129885e-01,  3.66391468e-02, -2.64537878e-01])"
      ]
     },
     "execution_count": 30,
     "metadata": {},
     "output_type": "execute_result"
    }
   ],
   "source": [
    "word2vector_ppapca20dppa['手机']"
   ]
  },
  {
   "cell_type": "code",
   "execution_count": 31,
   "metadata": {},
   "outputs": [],
   "source": [
    "def similarity_cos(vec1, vec2):\n",
    "    \"\"\" Compute cosine similarity of 2 vectors \"\"\"\n",
    "    if not isinstance(vec1, np.ndarray):\n",
    "        vec1 = np.asarray(vec1)\n",
    "    if not isinstance(vec2, np.ndarray):\n",
    "        vec2 = np.asarray(vec2)\n",
    "    vec_sum = np.sum(vec1 * vec2)\n",
    "    vec_norm = np.linalg.norm(vec1) * np.linalg.norm(vec2)\n",
    "    return vec_sum / vec_norm\n",
    "\n",
    "def get_similar_words(word0, word2vector, sim_func=similarity_cos, thresh=0.7):\n",
    "    \"\"\" 从word2vector中找到与word0相似度大于thresh的其他word，按相似度排序，相似度计算函数可指定 \"\"\"\n",
    "    vector0 = word2vector[word0]\n",
    "    res = []\n",
    "    for word, vector in word2vector.items():\n",
    "        sim = sim_func(vector, vector0)\n",
    "        if word != word0 and sim >= thresh:\n",
    "            res.append((word, round(sim,4)))\n",
    "    return sorted(res, key=lambda x: x[1], reverse=True)"
   ]
  },
  {
   "cell_type": "code",
   "execution_count": 32,
   "metadata": {},
   "outputs": [
    {
     "name": "stderr",
     "output_type": "stream",
     "text": [
      "/usr/local/anaconda3/lib/python3.6/site-packages/ipykernel_launcher.py:9: RuntimeWarning: invalid value encountered in double_scalars\n",
      "  if __name__ == '__main__':\n"
     ]
    },
    {
     "name": "stdout",
     "output_type": "stream",
     "text": [
      "[('小手机', 0.7627), ('平板电脑', 0.753), ('智能机', 0.7469), ('老年机', 0.7406), ('电脑', 0.7228), ('笔记本电脑', 0.7194), ('手机屏', 0.7147), ('老人机', 0.7045)]\n"
     ]
    }
   ],
   "source": [
    "print(get_similar_words('手机', word2vector))"
   ]
  },
  {
   "cell_type": "code",
   "execution_count": 33,
   "metadata": {},
   "outputs": [
    {
     "name": "stderr",
     "output_type": "stream",
     "text": [
      "/usr/local/anaconda3/lib/python3.6/site-packages/ipykernel_launcher.py:9: RuntimeWarning: invalid value encountered in double_scalars\n",
      "  if __name__ == '__main__':\n"
     ]
    },
    {
     "name": "stdout",
     "output_type": "stream",
     "text": [
      "[('小手机', 0.8679), ('相机', 0.8059), ('老年机', 0.7593), ('智能机', 0.7485), ('手机屏', 0.7382), ('屏', 0.7357), ('模型机', 0.735), ('触摸屏笔', 0.7266), ('平板电脑', 0.7092), ('拍照框', 0.7035)]\n"
     ]
    }
   ],
   "source": [
    "print(get_similar_words('手机', word2vector_truncated50d))"
   ]
  },
  {
   "cell_type": "code",
   "execution_count": 34,
   "metadata": {},
   "outputs": [
    {
     "name": "stdout",
     "output_type": "stream",
     "text": [
      "[('小手机', 0.7604), ('智能机', 0.7493), ('老年机', 0.7491), ('老人机', 0.7428), ('平板电脑', 0.7389), ('笔记本电脑', 0.7129), ('电脑', 0.7112), ('功能机', 0.7044)]\n"
     ]
    }
   ],
   "source": [
    "print(get_similar_words('手机', word2vector_pca50d))"
   ]
  },
  {
   "cell_type": "code",
   "execution_count": 35,
   "metadata": {},
   "outputs": [
    {
     "name": "stdout",
     "output_type": "stream",
     "text": [
      "[('笔记本电脑', 0.864), ('电脑', 0.8565), ('mp3', 0.845), ('笔记本', 0.8395), ('话费', 0.8342), ('手机线', 0.8227), ('备用机', 0.8159), ('智能机', 0.8126), ('平板电脑', 0.8122), ('电子书', 0.8055), ('老年机', 0.8054), ('相机', 0.8022), ('功能机', 0.7976), ('碎屏险', 0.7962), ('手机号', 0.7917), ('行车记录仪', 0.791), ('收钱码', 0.7884), ('电话', 0.7871), ('火车票', 0.785), ('换电池', 0.7846), ('提款机', 0.7832), ('信用卡还款', 0.7811), ('耳机', 0.7806), ('信用卡', 0.7801), ('老人机', 0.7785), ('理财本', 0.773), ('公交卡', 0.7728), ('流量卡', 0.7718), ('操作系统', 0.7713), ('副耳机', 0.7708), ('机票', 0.7692), ('数码设备', 0.7671), ('小手机', 0.7671), ('模型机', 0.7665), ('京东卡', 0.7635), ('实体卡', 0.7626), ('qq币', 0.7616), ('移动硬盘', 0.7599), ('红包', 0.7595), ('pos机', 0.7594), ('数码产品', 0.7582), ('随身听', 0.7525), ('视频机', 0.7512), ('游戏机', 0.7512), ('phones', 0.7511), ('硬件', 0.7503), ('阅读器', 0.7498), ('交通卡', 0.7491), ('u盘', 0.749), ('保险', 0.7488), ('加油卡', 0.7486), ('天府通', 0.7471), ('以旧换新', 0.7468), ('手机卡', 0.7465), ('花几', 0.7455), ('扩展包', 0.7451), ('软件', 0.7432), ('优惠券', 0.7399), ('充电宝', 0.7392), ('硬盘', 0.7383), ('理财', 0.7377), ('券', 0.7367), ('手表', 0.7354), ('有声读物', 0.7344), ('单反', 0.7336), ('网盘', 0.7332), ('座机', 0.7329), ('意外险', 0.7328), ('车险', 0.732), ('生活缴费', 0.7318), ('美通卡', 0.7316), ('储值卡', 0.7299), ('钱', 0.7281), ('门票', 0.7275), ('摄像头', 0.7265), ('钱袋宝', 0.7263), ('专用手机', 0.726), ('讲解器', 0.7259), ('驾驶证', 0.7246), ('电影卡', 0.7245), ('小平板', 0.7244), ('大哥大', 0.7243), ('万能卡', 0.7239), ('岭南通', 0.7235), ('单车包', 0.7227), ('sim卡', 0.7223), ('电话卡', 0.7216), ('花钱', 0.7197), ('美金', 0.7186), ('钱包', 0.7185), ('车位套', 0.7179), ('人民币', 0.717), ('预付卡', 0.7165), ('收音机', 0.7162), ('单反相机', 0.7159), ('代步车', 0.7154), ('买', 0.7153), ('电话本', 0.7153), ('加价购', 0.7144), ('月票卡套', 0.7141), ('自驾租车', 0.7138), ('商务机', 0.7129), ('车位', 0.7125), ('一分钱', 0.7122), ('购物卡', 0.7106), ('电纸书', 0.7098), ('点读书', 0.7086), ('票', 0.7085), ('账', 0.7085), ('账本', 0.7085), ('车码表', 0.7081), ('工资条', 0.708), ('云盘', 0.7078), ('洗车券', 0.7078), ('微信微博', 0.7078), ('年票', 0.7071), ('数码相机', 0.7061), ('延保服务', 0.706), ('播放器', 0.7053), ('车充器', 0.7048), ('停车券', 0.704), ('价格表', 0.7039), ('360', 0.7028), ('车钥匙', 0.7023), ('手机保险', 0.7021), ('印钞机', 0.7018), ('门票/车票', 0.7007), ('停车卡', 0.7006), ('地图导航', 0.7006), ('台币', 0.7004), ('深圳通', 0.7002), ('理财书', 0.7001)]\n"
     ]
    }
   ],
   "source": [
    "print(get_similar_words('手机', word2vector_pca20d))"
   ]
  },
  {
   "cell_type": "code",
   "execution_count": 36,
   "metadata": {},
   "outputs": [
    {
     "name": "stdout",
     "output_type": "stream",
     "text": [
      "[('小手机', 0.7588), ('智能机', 0.7307), ('平板电脑', 0.7267), ('老年机', 0.7261)]\n"
     ]
    }
   ],
   "source": [
    "print(get_similar_words('手机', word2vector_ppa))"
   ]
  },
  {
   "cell_type": "code",
   "execution_count": 37,
   "metadata": {},
   "outputs": [
    {
     "name": "stdout",
     "output_type": "stream",
     "text": [
      "[('小手机', 0.8004), ('老年机', 0.7882), ('老人机', 0.7677), ('手机带', 0.7256), ('智能机', 0.7174), ('平板电脑', 0.7089)]\n"
     ]
    }
   ],
   "source": [
    "print(get_similar_words('手机', word2vector_ppapca50d))"
   ]
  },
  {
   "cell_type": "code",
   "execution_count": 38,
   "metadata": {},
   "outputs": [
    {
     "name": "stdout",
     "output_type": "stream",
     "text": [
      "[('老年机', 0.8461), ('备用机', 0.8421), ('副耳机', 0.8411), ('老人机', 0.8196), ('换电池', 0.8175), ('调表器', 0.804), ('小手机', 0.7973), ('充电头', 0.7793), ('专用手机', 0.7757), ('otg线', 0.7717), ('保修卡', 0.7638), ('录音麦', 0.7634), ('剪卡器', 0.7586), ('模型机', 0.7485), ('数码产品', 0.7471), ('电脑', 0.7384), ('平板电脑', 0.7382), ('手机带', 0.7375), ('智能机', 0.7352), ('u盘', 0.733), ('手机故障', 0.7316), ('银月饼', 0.7314), ('手机卡', 0.7309), ('笔记本电脑', 0.7302), ('充电器头', 0.7278), ('数码设备', 0.7276), ('线充', 0.7271), ('二手行车记录仪', 0.7271), ('ic卡套', 0.7262), ('大哥大', 0.726), ('手机靓号', 0.7236), ('以旧换新', 0.7211), ('二手手机', 0.7207), ('电工笔', 0.7201), ('数据线', 0.72), ('手机电池', 0.7199), ('起子机', 0.7177), ('mp5', 0.7174), ('写频线', 0.7158), ('转换头', 0.7142), ('二手一体机', 0.714), ('刷机线', 0.7131), ('编程器', 0.7129), ('数码伴侣', 0.7127), ('多功能卡', 0.712), ('游戏装备', 0.7114), ('速录笔', 0.7099), ('优盘', 0.7094), ('视频机', 0.708), ('移动硬盘', 0.7075), ('钱枪', 0.7073), ('mp3', 0.7068), ('电子表', 0.7065), ('话费', 0.7056), ('碎屏险', 0.7048), ('数码录音笔', 0.7026)]\n"
     ]
    }
   ],
   "source": [
    "print(get_similar_words('手机', word2vector_ppapca20d))"
   ]
  },
  {
   "cell_type": "code",
   "execution_count": 39,
   "metadata": {},
   "outputs": [
    {
     "name": "stdout",
     "output_type": "stream",
     "text": [
      "[('小手机', 0.7961), ('老人机', 0.7724), ('老年机', 0.7569), ('智能机', 0.7533), ('功能机', 0.7114)]\n"
     ]
    }
   ],
   "source": [
    "print(get_similar_words('手机', word2vector_pca50dppa))"
   ]
  },
  {
   "cell_type": "code",
   "execution_count": 40,
   "metadata": {},
   "outputs": [
    {
     "name": "stdout",
     "output_type": "stream",
     "text": [
      "[('老年机', 0.9069), ('打点仪', 0.8956), ('拆表带器', 0.8912), ('备用机', 0.8851), ('卡缘连接器', 0.8844), ('笔记本电脑', 0.8827), ('数码设备', 0.8795), ('老人机', 0.8794), ('qq币', 0.8724), ('ic卡套', 0.8691), ('接头枪', 0.8652), ('副耳机', 0.8652), ('剪卡器', 0.8643), ('流量卡', 0.8642), ('调表器', 0.8553), ('线钳', 0.8542), ('网线钳', 0.8509), ('数据线', 0.8507), ('发声枪', 0.8446), ('电脑', 0.8431), ('盘发夹子', 0.8425), ('自封枪', 0.8418), ('叫卖器', 0.8416), ('拆带器', 0.8381), ('钱袋子', 0.8374), ('快递单夹', 0.8367), ('速录笔', 0.8367), ('换电池', 0.8365), ('小手机', 0.8343), ('大哥大', 0.833), ('电工笔', 0.8323), ('otg线', 0.8304), ('行车录仪', 0.828), ('充电头', 0.8263), ('模型机', 0.8256), ('抢', 0.8247), ('加密狗', 0.8228), ('手机线', 0.8227), ('专用手机', 0.8222), ('平板电脑', 0.8213), ('拷贝机', 0.8195), ('加密锁', 0.8148), ('矿机', 0.813), ('写频线', 0.8126), ('钱枪', 0.8106), ('视频机', 0.8103), ('数码产品', 0.8094), ('钱袋宝', 0.8093), ('链接线', 0.8087), ('保修卡', 0.8061), ('充电线', 0.8058), ('随身听', 0.8047), ('碎屏险', 0.8046), ('抽芯枪', 0.8045), ('寻呼机', 0.8038), ('数码录音笔', 0.8033), ('充电器', 0.8021), ('多功能卡', 0.8009), ('星期袜', 0.8005), ('检点锤', 0.8), ('盘点枪', 0.7996), ('尖嘴钳子', 0.7977), ('转换头', 0.7964), ('速通卡', 0.7962), ('年历本', 0.796), ('三生绳', 0.7948), ('扫描枪', 0.7948), ('翻译笔', 0.7938), ('耳机', 0.7929), ('压岁包', 0.7928), ('记账宝', 0.792), ('假发圈', 0.7919), ('停电宝', 0.7914), ('二手行车记录仪', 0.7909), ('录像带/磁带', 0.7901), ('网钳', 0.7894), ('加价购', 0.7879), ('翻页笔', 0.7866), ('智能机', 0.7857), ('mp3', 0.7856), ('真假发', 0.7849), ('手机故障', 0.7839), ('拿', 0.7836), ('二手电视盒子', 0.7827), ('儿童表', 0.782), ('偏口钳', 0.7809), ('红包', 0.7803), ('猴币', 0.7794), ('打线枪', 0.7787), ('资费卡', 0.7787), ('电脑棒', 0.7787), ('压岁钱', 0.7785), ('拆信器', 0.7767), ('充电器线', 0.7764), ('条码枪', 0.776), ('模块连接器', 0.7754), ('录音麦', 0.7743), ('编程器', 0.774), ('学生平板', 0.773), ('生耳批', 0.7725), ('电转枪', 0.7718), ('游戏装备', 0.7715), ('哨子刀', 0.771), ('看戏机', 0.771), ('传票叉', 0.7702), ('线充', 0.7702), ('手电筒夹', 0.7697), ('双用枪', 0.7695), ('扎线枪', 0.7695), ('单箭头包', 0.7688), ('电池充电器', 0.7685), ('触屏笔', 0.7683), ('pos机', 0.7678), ('目录架', 0.7677), ('拨线刀', 0.7661), ('手机耳机', 0.7651), ('充电器头', 0.7644), ('收录机', 0.7637), ('取盘夹子', 0.7618), ('功能机', 0.7617), ('传呼机', 0.7613), ('收款宝', 0.7605), ('起拔器', 0.7603), ('转接圈', 0.7602), ('手机数据线', 0.76), ('夹便器', 0.7581), ('压线钳', 0.7572), ('大刀肉', 0.7563), ('命', 0.7562), ('苏打枪', 0.756), ('销讲夹', 0.7556), ('涂卡笔', 0.7556), ('大红包', 0.7552), ('盘发卡', 0.7544), ('电纸书', 0.7531), ('剥线钳', 0.753), ('打发器', 0.7527), ('手机卡', 0.7525), ('录音机', 0.7524), ('发夹子', 0.7522), ('移动存储', 0.7516), ('小手串', 0.7504), ('盘子夹', 0.7502), ('盘夹子', 0.7502), ('汽车钥匙', 0.7501), ('接', 0.7499), ('快排阀', 0.7499), ('打价枪', 0.7498), ('单点锁', 0.7496), ('看家宝', 0.7496), ('转接线', 0.749), ('撸撸杯', 0.7485), ('防辐射镜', 0.7483), ('笔记本', 0.7482), ('压岁钱币', 0.748), ('转接头', 0.748), ('纠正带', 0.7476), ('电话台笔', 0.7474), ('取卡针', 0.7473), ('电络铁', 0.7472), ('发', 0.746), ('二手电脑包', 0.7457), ('录像机', 0.7457), ('手电钻枪', 0.7455), ('耳机子', 0.7449), ('u盘笔', 0.7446), ('刷机线', 0.7441), ('阅读器', 0.7441), ('发票章盒', 0.7433), ('脑白金', 0.7431), ('接地宝', 0.743), ('听书宝', 0.7421), ('电子表', 0.7421), ('螺丝批', 0.7415), ('钱', 0.7414), ('竖款钱夹', 0.7413), ('样', 0.7411), ('应急充', 0.7411), ('二手车载充电器', 0.7406), ('话费', 0.7401), ('正姿笔', 0.7399), ('充电宝', 0.7395), ('拐子破枪', 0.7392), ('听读机', 0.739), ('电话', 0.7389), ('提款机', 0.7389), ('录', 0.7386), ('发抓夹子', 0.7383), ('假发夹子', 0.7383), ('绕线枪', 0.7378), ('佛手串', 0.7378), ('usb灯', 0.7375), ('发射枪', 0.7373), ('夹线钳', 0.737), ('易充', 0.7368), ('收钱包', 0.7367), ('假头套', 0.7367), ('电容笔', 0.7365), ('螺丝刀', 0.7365), ('USB连接器', 0.7357), ('别针扣', 0.7356), ('斜口钳', 0.7351), ('单放机', 0.735), ('耳机带', 0.7344), ('晴雨表', 0.7342), ('u盘', 0.7337), ('羽拍包', 0.733), ('手咪', 0.7329), ('银月饼', 0.7327), ('磁带机', 0.7327), ('手机带', 0.7321), ('穿针器', 0.7315), ('新11选5', 0.7314), ('加密盘', 0.7312), ('转接器', 0.731), ('眼镜腿', 0.7306), ('phones', 0.7306), ('录音卡', 0.7297), ('矿石机', 0.7294), ('烧录器', 0.7293), ('起子刀', 0.7292), ('无线枪', 0.7292), ('拆链器', 0.729), ('真发套', 0.7288), ('蓝牙耳机', 0.7287), ('读书器', 0.7286), ('点钞机', 0.7283), ('电改刀', 0.728), ('铆接枪', 0.7277), ('电工刀', 0.7277), ('切菜盒', 0.7277), ('短钱夹', 0.7275), ('火柴枪', 0.7272), ('usb线', 0.7271), ('拆表器', 0.7269), ('计算器', 0.7269), ('插卡机', 0.7268), ('账', 0.7267), ('改锥', 0.7267), ('连接线', 0.7267), ('手串线', 0.7264), ('数码伴侣', 0.7263), ('刀把伞', 0.7262), ('充气焊枪', 0.726), ('I/O连接器', 0.7259), ('响刀', 0.7257), ('包饺器', 0.7254), ('插头扣', 0.7252), ('把枪', 0.7249), ('相机带', 0.7248), ('小平板', 0.7246), ('送', 0.7244), ('掌上电脑', 0.7243), ('上网宝', 0.7238), ('水浒卡', 0.7237), ('交通卡', 0.7233), ('优盘', 0.7227), ('取卡器', 0.7226), ('复读机', 0.7224), ('二手钱币', 0.7222), ('录音盒', 0.7221), ('移动电源', 0.722), ('路考仪', 0.7214), ('火车票', 0.7209), ('走线盒', 0.7208), ('苹果器', 0.7202), ('栗爪', 0.7201), ('样板机', 0.7198), ('打火线', 0.7198), ('笔记本锁', 0.7192), ('手机靓号', 0.7191), ('可充电池', 0.7191), ('安卓线', 0.7191), ('零钱票夹', 0.7189), ('发抓夹', 0.7187), ('零用钱包', 0.7185), ('一分钱', 0.7184), ('转录机', 0.7179), ('屏幕贴膜', 0.7178), ('实体卡', 0.7178), ('点烟器头', 0.7175), ('公交卡', 0.7173), ('高清播放器', 0.7173), ('电信卡', 0.7169), ('二手DVD/电视盒子', 0.7168), ('一字扣带', 0.7161), ('发套假发', 0.7159), ('接线钳', 0.7158), ('抽轴夹', 0.7157), ('圆锥接头', 0.7151), ('大屏机', 0.7147), ('国学机', 0.7147), ('台笔', 0.7145), ('单把锁', 0.7144), ('芯片', 0.7141), ('转接盘', 0.7137), ('气保焊枪', 0.7136), ('动能枪', 0.7134), ('云终端', 0.7133), ('电批头', 0.7131), ('sim卡', 0.713), ('万用表笔', 0.7126), ('梅花锁', 0.7125), ('链接头', 0.7124), ('盘发圈', 0.712), ('放电仪', 0.7119), ('摄像笔', 0.7116), ('掌中宝', 0.7114), ('带', 0.7113), ('移动硬盘', 0.7107), ('起订器', 0.7103), ('大发圈', 0.7102), ('截表带', 0.7099), ('花几', 0.7094), ('发票盒', 0.7089), ('电脑锁', 0.7089), ('价枪', 0.7087), ('充电板手', 0.7087), ('盒式机', 0.7085), ('中国结线', 0.7085), ('对点仪', 0.7083), ('开信器', 0.7083), ('机顶盒', 0.7082), ('快充头', 0.7079), ('收钱盒', 0.7078), ('买', 0.7075), ('合约机', 0.7075), ('挂件绳', 0.7075), ('珠宝称', 0.7073), ('削发刀', 0.7069), ('电子辞典', 0.7068), ('弹弓枪', 0.7067), ('屏幕贴', 0.706), ('大王卡', 0.7058), ('饼干枪', 0.7056), ('码钉枪器', 0.7056), ('真', 0.7054), ('编发夹', 0.7052), ('京东卡', 0.705), ('扫码枪', 0.7047), ('工资条', 0.7046), ('翻页器', 0.7045), ('金饭碗', 0.7044), ('对接头', 0.7043), ('mp5', 0.7033), ('二手电子通信图书', 0.7033), ('听书机', 0.703), ('收束枪', 0.7029), ('测电器', 0.7027), ('枪兵器', 0.7026), ('账本', 0.7026), ('示波表', 0.7023), ('录音笔', 0.702), ('报话器', 0.7018), ('车载充电器', 0.7018), ('读卡器', 0.7017), ('散珠子', 0.7015), ('尖头包', 0.7011), ('儿童机', 0.7011), ('酷壳', 0.7011), ('手机电池', 0.7011), ('激活码', 0.7008), ('钱包钱包', 0.7007), ('学习笔', 0.7007), ('接线子钳', 0.7006), ('二手车载电器', 0.7006), ('二手电源', 0.7006), ('指纹机', 0.7003)]\n"
     ]
    }
   ],
   "source": [
    "print(get_similar_words('手机', word2vector_pca20dppa))"
   ]
  },
  {
   "cell_type": "code",
   "execution_count": 41,
   "metadata": {},
   "outputs": [
    {
     "name": "stdout",
     "output_type": "stream",
     "text": [
      "[('小手机', 0.7821), ('红米', 0.7294), ('老年机', 0.7233), ('智能机', 0.7066), ('小米', 0.7049), ('手机屏', 0.7029)]\n"
     ]
    }
   ],
   "source": [
    "print(get_similar_words('手机', word2vector_ppapca50dppa))"
   ]
  },
  {
   "cell_type": "code",
   "execution_count": 42,
   "metadata": {},
   "outputs": [
    {
     "name": "stdout",
     "output_type": "stream",
     "text": [
      "[('冬笋干', 0.8774), ('换电池', 0.8727), ('鲜山参', 0.8657), ('小黄姜', 0.8619), ('洗簌包', 0.846), ('贷', 0.8451), ('山核桃肉', 0.8408), ('黑枸杞', 0.8368), ('鲜枸杞', 0.8352), ('电费', 0.8323), ('小天麻', 0.8266), ('取电器', 0.8249), ('黄精茶', 0.8192), ('账皮', 0.8141), ('护发茶', 0.8118), ('商务男袜', 0.8081), ('备用机', 0.807), ('阴', 0.8047), ('金铁锁', 0.8041), ('岩黄连', 0.8037), ('降压线', 0.8033), ('石斛', 0.8018), ('黄精', 0.7997), ('天麻', 0.7989), ('杜仲', 0.7982), ('蓄电瓶', 0.7972), ('固线夹', 0.796), ('鲜条', 0.7937), ('黑枸杞子', 0.7929), ('充电盒', 0.791), ('借电器', 0.7908), ('米斛', 0.7907), ('电热水杯', 0.7907), ('干姜片', 0.7903), ('保温茶壶', 0.7896), ('拓展坞', 0.7871), ('火车票', 0.786), ('石笋干', 0.7843), ('收话器', 0.7836), ('车载煲机', 0.7818), ('手机带', 0.7817), ('手机垫', 0.7776), ('熟毛笔', 0.7764), ('文具本', 0.7764), ('收纳本', 0.7759), ('副耳机', 0.775), ('截表带', 0.7745), ('车码表', 0.7744), ('充电头', 0.7719), ('淮山片', 0.7696), ('账本夹子', 0.7688), ('投影配件', 0.7685), ('三七', 0.7664), ('擦屏布', 0.7652), ('橘红果', 0.7644), ('整套茶具', 0.7643), ('风流果', 0.7642), ('人参', 0.7639), ('枸杞', 0.7634), ('全自动伞', 0.7616), ('真皮带表', 0.7616), ('酷壳', 0.7614), ('二手办公设备', 0.7609), ('起子机', 0.7595), ('电瓶夹子', 0.7589), ('老陈皮', 0.7586), ('小碗耳', 0.7583), ('秋木耳', 0.7582), ('蓝牙设备', 0.757), ('修补胶带', 0.7558), ('榛蘑', 0.7558), ('加热水杯', 0.7558), ('鸡血藤', 0.7557), ('取卡器', 0.7557), ('测电器', 0.7551), ('肉苁蓉', 0.7549), ('金钱莲', 0.7534), ('钥匙壳', 0.7533), ('老年机', 0.7522), ('绞股蓝', 0.7511), ('枸杞茶叶', 0.75), ('叶子板贴', 0.7498), ('抄经笔芯', 0.7484), ('老白茶', 0.7483), ('充电车', 0.7482), ('辐射贴', 0.7473), ('山乌龟', 0.7465), ('回春草', 0.7461), ('西洋参', 0.7454), ('充电桩', 0.7452), ('冷切系列', 0.744), ('车充', 0.7425), ('分心木', 0.7422), ('美发夹板', 0.7422), ('皂角米', 0.7422), ('西州蜜瓜', 0.7413), ('枸杞蜜', 0.7412), ('红菇', 0.7412), ('修', 0.7408), ('摘', 0.7406), ('账本夹', 0.7401), ('票据收纳本', 0.7397), ('物流袋', 0.7396), ('三七苗', 0.7392), ('胎菊', 0.7384), ('翻转本', 0.7382), ('紫娟茶', 0.7377), ('枞菌', 0.737), ('枸杞干果', 0.7369), ('鼠标包', 0.736), ('养生壶', 0.7359), ('别直参', 0.7356), ('紫芽茶', 0.7352), ('车载充电器', 0.7342), ('桑葚干', 0.733), ('手账本子', 0.7329), ('车载生活电器', 0.7328), ('菟丝子', 0.7326), ('谷花茶', 0.7318), ('人参花', 0.731), ('镜头附件', 0.7309), ('竹笋干', 0.7304), ('补充夹', 0.7299), ('u盘', 0.7295), ('屏幕贴膜', 0.729), ('桑寄生', 0.7283), ('电瓶', 0.7282), ('收线盒', 0.728), ('保温鞋', 0.7275), ('女贞子', 0.7272), ('榉木家具', 0.7263), ('转接架', 0.726), ('手机故障', 0.7258), ('挡书板', 0.7256), ('熬药煲', 0.7251), ('窄皮带', 0.725), ('干蕨菜', 0.7249), ('钥匙刀', 0.7248), ('降温保温', 0.7246), ('搭火线', 0.7241), ('平板包', 0.7234), ('本', 0.7228), ('柏树苗', 0.7224), ('养发油', 0.7222), ('车载充', 0.7217), ('寿眉', 0.7216), ('紫灵芝', 0.7209), ('二手车载充电器', 0.7209), ('秋季鞋', 0.7207), ('黑苦荞麦', 0.7203), ('驾驶证套', 0.7201), ('放锅盖', 0.7198), ('栗子机', 0.7191), ('绕线带', 0.7188), ('锅盖把', 0.7185), ('手机托架', 0.7184), ('二手车载电台', 0.7183), ('珍珠菊', 0.7182), ('充电座', 0.717), ('开背机', 0.7163), ('把带', 0.7157), ('泡脚片', 0.7155), ('冷藏熟食', 0.7155), ('鹿鞭片', 0.7153), ('二手一体机', 0.7152), ('电池', 0.715), ('煲药锅', 0.7145), ('药锅煲', 0.7145), ('书本包', 0.7143), ('何首乌', 0.7143), ('野人参', 0.7143), ('车载电器配件', 0.714), ('干锅煲', 0.7134), ('东洋参', 0.713), ('红米', 0.713), ('黑枸杞茶', 0.713), ('金蝉花', 0.7127), ('淫羊藿', 0.7126), ('小花菇', 0.7126), ('园参', 0.7124), ('大红柑', 0.7124), ('硬抄本子', 0.712), ('绿茶包', 0.7119), ('电线钳', 0.7119), ('枞树菌', 0.7119), ('开信器', 0.7115), ('中药材', 0.7112), ('元蘑', 0.7112), ('若羌枣', 0.7111), ('牛皮手包', 0.711), ('冬笋', 0.7109), ('藏茵陈', 0.7107), ('陈列板', 0.7104), ('搭电线', 0.7103), ('枸杞苗', 0.7103), ('专用手机', 0.7103), ('小炒锅', 0.7098), ('缩时拍', 0.7097), ('前后贴膜', 0.7096), ('模型机', 0.7095), ('独脚金', 0.7089), ('树种', 0.7087), ('保鲜参', 0.7087), ('软胶壳', 0.7084), ('杜仲皮', 0.708), ('充电板', 0.7077), ('保护皮套', 0.7076), ('车载支架', 0.7076), ('营养油笔', 0.7076), ('贡菊', 0.7075), ('点格本', 0.7074), ('龙眼干', 0.7073), ('硬盘包', 0.7071), ('保修卡', 0.7061), ('姜皮', 0.7055), ('鼻毛机', 0.705), ('车前头包', 0.705), ('平板套', 0.7046), ('百合干', 0.7041), ('二手手机', 0.7041), ('做账本', 0.7041), ('北沙参', 0.704), ('安卓线', 0.7039), ('枸杞子', 0.7037), ('墨旱莲', 0.7029), ('捆线器', 0.7028), ('充电器', 0.7026), ('胡椒木', 0.7024), ('天草油', 0.7024), ('充电器头', 0.7017), ('活页本子', 0.7012), ('充电动车', 0.7011), ('日历', 0.7009), ('床头扇', 0.7008), ('耳机盒', 0.7005), ('理线夹', 0.7005), ('单向历', 0.7)]\n"
     ]
    }
   ],
   "source": [
    "print(get_similar_words('手机', word2vector_ppapca20dppa))"
   ]
  },
  {
   "cell_type": "code",
   "execution_count": 43,
   "metadata": {},
   "outputs": [],
   "source": [
    "def word2vector_persist(word2vector, filename, seps=['\\t', ',']):\n",
    "    \"\"\" word_to_vector持久化为文件 \"\"\"\n",
    "    with open(filename, 'w', encoding='utf-8') as fw:\n",
    "        for (word, vector) in word2vector.items():\n",
    "            line = str(word) + seps[0] + seps[1].join([str(x) for x in vector])\n",
    "            fw.write(line + '\\n')"
   ]
  },
  {
   "cell_type": "code",
   "execution_count": 44,
   "metadata": {},
   "outputs": [],
   "source": [
    "# 持久化\n",
    "# Original\n",
    "word_embedding_file_original = './result/word2vector_original.txt'\n",
    "word2vector_persist(word2vector, word_embedding_file_original)\n",
    "\n",
    "# Truncation-50d\n",
    "word2vector_truncated50d_file = './result/word2vector_truncated50d.txt'\n",
    "word2vector_persist(word2vector_truncated50d, word2vector_truncated50d_file)\n",
    "\n",
    "# PCA-50d\n",
    "word2vector_pca50d_file = './result/word2vector_pca50d.txt'\n",
    "word2vector_persist(word2vector_pca50d, word2vector_pca50d_file)\n",
    "\n",
    "# PCA-20d\n",
    "word2vector_pca20d_file = './result/word2vector_pca20d.txt'\n",
    "word2vector_persist(word2vector_pca20d, word2vector_pca20d_file)\n",
    "\n",
    "# PPA\n",
    "word2vector_ppa_file = './result/word2vector_ppa.txt'\n",
    "word2vector_persist(word2vector_ppa, word2vector_ppa_file)\n",
    "\n",
    "# PPA+PCA-50d\n",
    "word2vector_ppapca50d_file = './result/word2vector_ppapca50d.txt'\n",
    "word2vector_persist(word2vector_ppapca50d, word2vector_ppapca50d_file)\n",
    "\n",
    "# PPA+PCA-20d\n",
    "word2vector_ppapca20d_file = './result/word2vector_ppapca20d.txt'\n",
    "word2vector_persist(word2vector_ppapca20d, word2vector_ppapca20d_file)\n",
    "\n",
    "# PCA-50d+PPA\n",
    "word2vector_pca50dppa_file = './result/word2vector_pca50dppa.txt'\n",
    "word2vector_persist(word2vector_pca50dppa, word2vector_pca50dppa_file)\n",
    "\n",
    "# PCA-20d+PPA\n",
    "word2vector_pca20dppa_file = './result/word2vector_pca20dppa.txt'\n",
    "word2vector_persist(word2vector_pca20dppa, word2vector_pca20dppa_file)\n",
    "\n",
    "# PPA+PCA-50d+PPA\n",
    "word2vector_ppapca50dppa_file = './result/word2vector_ppapca50dppa.txt'\n",
    "word2vector_persist(word2vector_ppapca50dppa, word2vector_ppapca50dppa_file)\n",
    "\n",
    "# PPA+PCA-20d+PPA\n",
    "word2vector_ppapca20dppa_file = './result/word2vector_ppapca20dppa.txt'\n",
    "word2vector_persist(word2vector_ppapca20dppa, word2vector_ppapca20dppa_file)"
   ]
  },
  {
   "cell_type": "code",
   "execution_count": null,
   "metadata": {},
   "outputs": [],
   "source": []
  }
 ],
 "metadata": {
  "kernelspec": {
   "display_name": "Python3 (PySpark)",
   "language": "python",
   "name": "python3"
  },
  "language_info": {
   "codemirror_mode": {
    "name": "ipython",
    "version": 3
   },
   "file_extension": ".py",
   "mimetype": "text/x-python",
   "name": "python",
   "nbconvert_exporter": "python",
   "pygments_lexer": "ipython3",
   "version": "3.6.4"
  }
 },
 "nbformat": 4,
 "nbformat_minor": 2
}
